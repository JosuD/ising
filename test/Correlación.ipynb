{
 "cells": [
  {
   "cell_type": "markdown",
   "metadata": {},
   "source": [
    "## Notas función de correlación"
   ]
  },
  {
   "cell_type": "markdown",
   "metadata": {},
   "source": [
    "Guille propone la siguiente función\n",
    "\n",
    "$$\\xi(k) = \\displaystyle \\frac{<x_i \\cdot x_{i+k}>-<x_i>^2}{<x_i^2>-<x_i>^2} $$\n",
    "\n",
    "Y que lo haga para diferentes $T$. Digamos, $T$ bajas, altas y cercanas a $T_c$.\n",
    "\n",
    "Si $x_i = s_i$ entonces lo que miro es el valor del spin en una posición dada y calculo su valor medio y sus cuadrados valor medio. \n",
    "\n",
    "Para eso voy a necesitar:\n",
    "* $Svm = \\sum x_i/N_{iter}$ para armar $<x_i>^2$\n",
    "* $S2vm = 1/N_{iter}$ porque $x_i^2 = 1$\n",
    "* *(Sik+i) += (*(lattice) * *(lattice+k))/(float)niter;"
   ]
  },
  {
   "cell_type": "code",
   "execution_count": null,
   "metadata": {
    "collapsed": true
   },
   "outputs": [],
   "source": []
  }
 ],
 "metadata": {
  "kernelspec": {
   "display_name": "Python 3",
   "language": "python",
   "name": "python3"
  },
  "language_info": {
   "codemirror_mode": {
    "name": "ipython",
    "version": 3
   },
   "file_extension": ".py",
   "mimetype": "text/x-python",
   "name": "python",
   "nbconvert_exporter": "python",
   "pygments_lexer": "ipython3",
   "version": "3.6.0"
  }
 },
 "nbformat": 4,
 "nbformat_minor": 2
}
